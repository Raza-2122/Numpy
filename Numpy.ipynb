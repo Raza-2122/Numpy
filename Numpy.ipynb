{
 "cells": [
  {
   "cell_type": "markdown",
   "id": "76f7c234",
   "metadata": {},
   "source": [
    "                                                    Numpy Practice\n",
    "                                                syed Qasim Raza Fatimi"
   ]
  },
  {
   "cell_type": "code",
   "execution_count": 1,
   "id": "e515369f",
   "metadata": {},
   "outputs": [],
   "source": [
    "import numpy as np\n",
    "import pandas as pd"
   ]
  },
  {
   "cell_type": "code",
   "execution_count": 2,
   "id": "8f45ca85",
   "metadata": {},
   "outputs": [
    {
     "name": "stdout",
     "output_type": "stream",
     "text": [
      "numpy: 1.22.3\n"
     ]
    }
   ],
   "source": [
    "print('numpy:', np.__version__)"
   ]
  },
  {
   "cell_type": "code",
   "execution_count": 3,
   "id": "58ecfcdf",
   "metadata": {
    "scrolled": true
   },
   "outputs": [
    {
     "name": "stdout",
     "output_type": "stream",
     "text": [
      "['ALLOW_THREADS', 'AxisError', 'BUFSIZE', 'CLIP', 'ComplexWarning', 'DataSource', 'ERR_CALL', 'ERR_DEFAULT', 'ERR_IGNORE', 'ERR_LOG', 'ERR_PRINT', 'ERR_RAISE', 'ERR_WARN', 'FLOATING_POINT_SUPPORT', 'FPE_DIVIDEBYZERO', 'FPE_INVALID', 'FPE_OVERFLOW', 'FPE_UNDERFLOW', 'False_', 'Inf', 'Infinity', 'MAXDIMS', 'MAY_SHARE_BOUNDS', 'MAY_SHARE_EXACT', 'ModuleDeprecationWarning', 'NAN', 'NINF', 'NZERO', 'NaN', 'PINF', 'PZERO', 'RAISE', 'RankWarning', 'SHIFT_DIVIDEBYZERO', 'SHIFT_INVALID', 'SHIFT_OVERFLOW', 'SHIFT_UNDERFLOW', 'ScalarType', 'Tester', 'TooHardError', 'True_', 'UFUNC_BUFSIZE_DEFAULT', 'UFUNC_PYVALS_NAME', 'VisibleDeprecationWarning', 'WRAP', '_CopyMode', '_NoValue', '_UFUNC_API', '__NUMPY_SETUP__', '__all__', '__builtins__', '__cached__', '__config__', '__deprecated_attrs__', '__dir__', '__doc__', '__expired_functions__', '__file__', '__getattr__', '__git_version__', '__loader__', '__name__', '__package__', '__path__', '__spec__', '__version__', '_add_newdoc_ufunc', '_distributor_init', '_financial_names', '_from_dlpack', '_globals', '_mat', '_pytesttester', '_version', 'abs', 'absolute', 'add', 'add_docstring', 'add_newdoc', 'add_newdoc_ufunc', 'alen', 'all', 'allclose', 'alltrue', 'amax', 'amin', 'angle', 'any', 'append', 'apply_along_axis', 'apply_over_axes', 'arange', 'arccos', 'arccosh', 'arcsin', 'arcsinh', 'arctan', 'arctan2', 'arctanh', 'argmax', 'argmin', 'argpartition', 'argsort', 'argwhere', 'around', 'array', 'array2string', 'array_equal', 'array_equiv', 'array_repr', 'array_split', 'array_str', 'asanyarray', 'asarray', 'asarray_chkfinite', 'ascontiguousarray', 'asfarray', 'asfortranarray', 'asmatrix', 'asscalar', 'atleast_1d', 'atleast_2d', 'atleast_3d', 'average', 'bartlett', 'base_repr', 'binary_repr', 'bincount', 'bitwise_and', 'bitwise_not', 'bitwise_or', 'bitwise_xor', 'blackman', 'block', 'bmat', 'bool8', 'bool_', 'broadcast', 'broadcast_arrays', 'broadcast_shapes', 'broadcast_to', 'busday_count', 'busday_offset', 'busdaycalendar', 'byte', 'byte_bounds', 'bytes0', 'bytes_', 'c_', 'can_cast', 'cast', 'cbrt', 'cdouble', 'ceil', 'cfloat', 'char', 'character', 'chararray', 'choose', 'clip', 'clongdouble', 'clongfloat', 'column_stack', 'common_type', 'compare_chararrays', 'compat', 'complex128', 'complex64', 'complex_', 'complexfloating', 'compress', 'concatenate', 'conj', 'conjugate', 'convolve', 'copy', 'copysign', 'copyto', 'core', 'corrcoef', 'correlate', 'cos', 'cosh', 'count_nonzero', 'cov', 'cross', 'csingle', 'ctypeslib', 'cumprod', 'cumproduct', 'cumsum', 'datetime64', 'datetime_as_string', 'datetime_data', 'deg2rad', 'degrees', 'delete', 'deprecate', 'deprecate_with_doc', 'diag', 'diag_indices', 'diag_indices_from', 'diagflat', 'diagonal', 'diff', 'digitize', 'disp', 'divide', 'divmod', 'dot', 'double', 'dsplit', 'dstack', 'dtype', 'e', 'ediff1d', 'einsum', 'einsum_path', 'emath', 'empty', 'empty_like', 'equal', 'errstate', 'euler_gamma', 'exp', 'exp2', 'expand_dims', 'expm1', 'extract', 'eye', 'fabs', 'fastCopyAndTranspose', 'fft', 'fill_diagonal', 'find_common_type', 'finfo', 'fix', 'flatiter', 'flatnonzero', 'flexible', 'flip', 'fliplr', 'flipud', 'float16', 'float32', 'float64', 'float_', 'float_power', 'floating', 'floor', 'floor_divide', 'fmax', 'fmin', 'fmod', 'format_float_positional', 'format_float_scientific', 'format_parser', 'frexp', 'frombuffer', 'fromfile', 'fromfunction', 'fromiter', 'frompyfunc', 'fromregex', 'fromstring', 'full', 'full_like', 'gcd', 'generic', 'genfromtxt', 'geomspace', 'get_array_wrap', 'get_include', 'get_printoptions', 'getbufsize', 'geterr', 'geterrcall', 'geterrobj', 'gradient', 'greater', 'greater_equal', 'half', 'hamming', 'hanning', 'heaviside', 'histogram', 'histogram2d', 'histogram_bin_edges', 'histogramdd', 'hsplit', 'hstack', 'hypot', 'i0', 'identity', 'iinfo', 'imag', 'in1d', 'index_exp', 'indices', 'inexact', 'inf', 'info', 'infty', 'inner', 'insert', 'int0', 'int16', 'int32', 'int64', 'int8', 'int_', 'intc', 'integer', 'interp', 'intersect1d', 'intp', 'invert', 'is_busday', 'isclose', 'iscomplex', 'iscomplexobj', 'isfinite', 'isfortran', 'isin', 'isinf', 'isnan', 'isnat', 'isneginf', 'isposinf', 'isreal', 'isrealobj', 'isscalar', 'issctype', 'issubclass_', 'issubdtype', 'issubsctype', 'iterable', 'ix_', 'kaiser', 'kron', 'lcm', 'ldexp', 'left_shift', 'less', 'less_equal', 'lexsort', 'lib', 'linalg', 'linspace', 'little_endian', 'load', 'loadtxt', 'log', 'log10', 'log1p', 'log2', 'logaddexp', 'logaddexp2', 'logical_and', 'logical_not', 'logical_or', 'logical_xor', 'logspace', 'longcomplex', 'longdouble', 'longfloat', 'longlong', 'lookfor', 'ma', 'mask_indices', 'mat', 'math', 'matmul', 'matrix', 'matrixlib', 'max', 'maximum', 'maximum_sctype', 'may_share_memory', 'mean', 'median', 'memmap', 'meshgrid', 'mgrid', 'min', 'min_scalar_type', 'minimum', 'mintypecode', 'mod', 'modf', 'moveaxis', 'msort', 'multiply', 'nan', 'nan_to_num', 'nanargmax', 'nanargmin', 'nancumprod', 'nancumsum', 'nanmax', 'nanmean', 'nanmedian', 'nanmin', 'nanpercentile', 'nanprod', 'nanquantile', 'nanstd', 'nansum', 'nanvar', 'nbytes', 'ndarray', 'ndenumerate', 'ndim', 'ndindex', 'nditer', 'negative', 'nested_iters', 'newaxis', 'nextafter', 'nonzero', 'not_equal', 'numarray', 'number', 'obj2sctype', 'object0', 'object_', 'ogrid', 'oldnumeric', 'ones', 'ones_like', 'os', 'outer', 'packbits', 'pad', 'partition', 'percentile', 'pi', 'piecewise', 'place', 'poly', 'poly1d', 'polyadd', 'polyder', 'polydiv', 'polyfit', 'polyint', 'polymul', 'polynomial', 'polysub', 'polyval', 'positive', 'power', 'printoptions', 'prod', 'product', 'promote_types', 'ptp', 'put', 'put_along_axis', 'putmask', 'quantile', 'r_', 'rad2deg', 'radians', 'random', 'ravel', 'ravel_multi_index', 'real', 'real_if_close', 'rec', 'recarray', 'recfromcsv', 'recfromtxt', 'reciprocal', 'record', 'remainder', 'repeat', 'require', 'reshape', 'resize', 'result_type', 'right_shift', 'rint', 'roll', 'rollaxis', 'roots', 'rot90', 'round', 'round_', 'row_stack', 's_', 'safe_eval', 'save', 'savetxt', 'savez', 'savez_compressed', 'sctype2char', 'sctypeDict', 'sctypes', 'searchsorted', 'select', 'set_numeric_ops', 'set_printoptions', 'set_string_function', 'setbufsize', 'setdiff1d', 'seterr', 'seterrcall', 'seterrobj', 'setxor1d', 'shape', 'shares_memory', 'short', 'show_config', 'sign', 'signbit', 'signedinteger', 'sin', 'sinc', 'single', 'singlecomplex', 'sinh', 'size', 'sometrue', 'sort', 'sort_complex', 'source', 'spacing', 'split', 'sqrt', 'square', 'squeeze', 'stack', 'std', 'str0', 'str_', 'string_', 'subtract', 'sum', 'swapaxes', 'sys', 'take', 'take_along_axis', 'tan', 'tanh', 'tensordot', 'test', 'testing', 'tile', 'timedelta64', 'trace', 'tracemalloc_domain', 'transpose', 'trapz', 'tri', 'tril', 'tril_indices', 'tril_indices_from', 'trim_zeros', 'triu', 'triu_indices', 'triu_indices_from', 'true_divide', 'trunc', 'typecodes', 'typename', 'ubyte', 'ufunc', 'uint', 'uint0', 'uint16', 'uint32', 'uint64', 'uint8', 'uintc', 'uintp', 'ulonglong', 'unicode_', 'union1d', 'unique', 'unpackbits', 'unravel_index', 'unsignedinteger', 'unwrap', 'use_hugepage', 'ushort', 'vander', 'var', 'vdot', 'vectorize', 'version', 'void', 'void0', 'vsplit', 'vstack', 'warnings', 'where', 'who', 'zeros', 'zeros_like']\n"
     ]
    }
   ],
   "source": [
    "print(dir(np))"
   ]
  },
  {
   "cell_type": "code",
   "execution_count": 4,
   "id": "62310774",
   "metadata": {},
   "outputs": [
    {
     "data": {
      "text/plain": [
       "array([1, 2, 3, 4, 4])"
      ]
     },
     "execution_count": 4,
     "metadata": {},
     "output_type": "execute_result"
    }
   ],
   "source": [
    "arr=np.array([1,2,3,4,4])\n",
    "arr"
   ]
  },
  {
   "cell_type": "code",
   "execution_count": 5,
   "id": "e72e1bbd",
   "metadata": {},
   "outputs": [
    {
     "data": {
      "text/plain": [
       "array([False,  True, False, False,  True])"
      ]
     },
     "execution_count": 5,
     "metadata": {},
     "output_type": "execute_result"
    }
   ],
   "source": [
    "bool_arr=np.array([0,1,0,0,-1],dtype='bool')\n",
    "bool_arr"
   ]
  },
  {
   "cell_type": "code",
   "execution_count": 6,
   "id": "337df49e",
   "metadata": {},
   "outputs": [
    {
     "data": {
      "text/plain": [
       "numpy.ndarray"
      ]
     },
     "execution_count": 6,
     "metadata": {},
     "output_type": "execute_result"
    }
   ],
   "source": [
    "type(arr)\n"
   ]
  },
  {
   "cell_type": "code",
   "execution_count": 7,
   "id": "40a59790",
   "metadata": {},
   "outputs": [
    {
     "data": {
      "text/plain": [
       "numpy.ndarray"
      ]
     },
     "execution_count": 7,
     "metadata": {},
     "output_type": "execute_result"
    }
   ],
   "source": [
    "type(bool_arr)"
   ]
  },
  {
   "cell_type": "code",
   "execution_count": 8,
   "id": "633d7d18",
   "metadata": {},
   "outputs": [
    {
     "data": {
      "text/plain": [
       "array([1, 3, 4, 5])"
      ]
     },
     "execution_count": 8,
     "metadata": {},
     "output_type": "execute_result"
    }
   ],
   "source": [
    "arr2=np.array((1,3,4,5))\n",
    "arr2"
   ]
  },
  {
   "cell_type": "markdown",
   "id": "db9e46c5",
   "metadata": {},
   "source": [
    "# Array indexing"
   ]
  },
  {
   "cell_type": "code",
   "execution_count": 9,
   "id": "5afb82a9",
   "metadata": {},
   "outputs": [
    {
     "data": {
      "text/plain": [
       "array([[1, 2, 3, 4, 5],\n",
       "       [3, 5, 6, 7, 8]])"
      ]
     },
     "execution_count": 9,
     "metadata": {},
     "output_type": "execute_result"
    }
   ],
   "source": [
    "#2d array\n",
    "t=np.array([[1,2,3,4,5],[3,5,6,7,8]])\n",
    "t"
   ]
  },
  {
   "cell_type": "code",
   "execution_count": 10,
   "id": "0bf74a19",
   "metadata": {},
   "outputs": [
    {
     "data": {
      "text/plain": [
       "array([[[1, 2, 3, 4, 5],\n",
       "        [3, 5, 6, 7, 8]],\n",
       "\n",
       "       [[2, 5, 4, 3, 4],\n",
       "        [3, 5, 6, 7, 8]]])"
      ]
     },
     "execution_count": 10,
     "metadata": {},
     "output_type": "execute_result"
    }
   ],
   "source": [
    "#3d array\n",
    "arr3=np.array([[[1,2,3,4,5],[3,5,6,7,8]],[[2,5,4,3,4],[3,5,6,7,8]]])\n",
    "arr3"
   ]
  },
  {
   "cell_type": "code",
   "execution_count": 11,
   "id": "09cff21d",
   "metadata": {},
   "outputs": [
    {
     "name": "stdout",
     "output_type": "stream",
     "text": [
      "1\n",
      "2\n",
      "3\n"
     ]
    }
   ],
   "source": [
    "#to check dimention\n",
    "print(arr.ndim)\n",
    "print(t.ndim)\n",
    "print(arr3.ndim)"
   ]
  },
  {
   "cell_type": "code",
   "execution_count": 12,
   "id": "fa8a572f",
   "metadata": {},
   "outputs": [
    {
     "data": {
      "text/plain": [
       "20"
      ]
     },
     "execution_count": 12,
     "metadata": {},
     "output_type": "execute_result"
    }
   ],
   "source": [
    "#size of array\n",
    "arr3.size"
   ]
  },
  {
   "cell_type": "code",
   "execution_count": 13,
   "id": "e9342a06",
   "metadata": {},
   "outputs": [
    {
     "name": "stdout",
     "output_type": "stream",
     "text": [
      "[[[[[1 2 3 4]]]]]\n",
      "number of dimensions : 5\n"
     ]
    }
   ],
   "source": [
    "arr = np.array([1, 2, 3, 4], ndmin=5)\n",
    "\n",
    "print(arr)\n",
    "print('number of dimensions :', arr.ndim)"
   ]
  },
  {
   "cell_type": "code",
   "execution_count": 14,
   "id": "be810e29",
   "metadata": {},
   "outputs": [
    {
     "data": {
      "text/plain": [
       "4"
      ]
     },
     "execution_count": 14,
     "metadata": {},
     "output_type": "execute_result"
    }
   ],
   "source": [
    "arr = np.array([1, 2, 3, 4])\n",
    "arr[3]"
   ]
  },
  {
   "cell_type": "code",
   "execution_count": 15,
   "id": "09872e4f",
   "metadata": {},
   "outputs": [
    {
     "data": {
      "text/plain": [
       "6"
      ]
     },
     "execution_count": 15,
     "metadata": {},
     "output_type": "execute_result"
    }
   ],
   "source": [
    "arr[1]+arr[3]"
   ]
  },
  {
   "cell_type": "code",
   "execution_count": 16,
   "id": "004beffb",
   "metadata": {},
   "outputs": [
    {
     "data": {
      "text/plain": [
       "7"
      ]
     },
     "execution_count": 16,
     "metadata": {},
     "output_type": "execute_result"
    }
   ],
   "source": [
    "#accesing element of 2D array\n",
    "t=np.array([[1,2,3,4,5],[3,5,6,7,8]])\n",
    "t[1,3]"
   ]
  },
  {
   "cell_type": "code",
   "execution_count": 17,
   "id": "02944010",
   "metadata": {},
   "outputs": [
    {
     "data": {
      "text/plain": [
       "4"
      ]
     },
     "execution_count": 17,
     "metadata": {},
     "output_type": "execute_result"
    }
   ],
   "source": [
    "#for 3D array\n",
    "arr3=np.array([[[1,2,3,4,5],[3,5,6,7,8]],[[2,5,4,3,4],[3,5,6,7,8]]])\n",
    "arr3[1,0,2]"
   ]
  },
  {
   "cell_type": "code",
   "execution_count": 18,
   "id": "04035154",
   "metadata": {},
   "outputs": [
    {
     "data": {
      "text/plain": [
       "8"
      ]
     },
     "execution_count": 18,
     "metadata": {},
     "output_type": "execute_result"
    }
   ],
   "source": [
    "#negative indexing\n",
    "t=np.array([[1,2,3,4,5],[3,5,6,7,8]])\n",
    "t[1,-1]"
   ]
  },
  {
   "cell_type": "markdown",
   "id": "606e7972",
   "metadata": {},
   "source": [
    "### Array Shape"
   ]
  },
  {
   "cell_type": "code",
   "execution_count": 19,
   "id": "fd412364",
   "metadata": {},
   "outputs": [
    {
     "data": {
      "text/plain": [
       "(4,)"
      ]
     },
     "execution_count": 19,
     "metadata": {},
     "output_type": "execute_result"
    }
   ],
   "source": [
    "#shape of array\n",
    "arr.shape"
   ]
  },
  {
   "cell_type": "code",
   "execution_count": 20,
   "id": "d8e5644b",
   "metadata": {},
   "outputs": [
    {
     "name": "stdout",
     "output_type": "stream",
     "text": [
      "[[[[[1 2 3 4]]]]]\n",
      "shape of array : (1, 1, 1, 1, 4)\n"
     ]
    }
   ],
   "source": [
    "arr = np.array([1, 2, 3, 4], ndmin=5)\n",
    "print(arr)\n",
    "print('shape of array :', arr.shape)"
   ]
  },
  {
   "cell_type": "code",
   "execution_count": 21,
   "id": "cd6a5932",
   "metadata": {},
   "outputs": [
    {
     "data": {
      "text/plain": [
       "(2, 2, 5)"
      ]
     },
     "execution_count": 21,
     "metadata": {},
     "output_type": "execute_result"
    }
   ],
   "source": [
    "arr3=np.array([[[1,2,3,4,5],[3,5,6,7,4]],[[2,5,4,3,4],[3,5,6,7,8]]])\n",
    "arr3.shape"
   ]
  },
  {
   "cell_type": "markdown",
   "id": "7322a423",
   "metadata": {},
   "source": [
    "## NumPy Array Reshaping"
   ]
  },
  {
   "cell_type": "code",
   "execution_count": 22,
   "id": "6c4b0701",
   "metadata": {},
   "outputs": [
    {
     "data": {
      "text/plain": [
       "array([[1, 2, 3, 4, 4],\n",
       "       [5, 6, 8, 8, 9]])"
      ]
     },
     "execution_count": 22,
     "metadata": {},
     "output_type": "execute_result"
    }
   ],
   "source": [
    "#1-D to 2-D\n",
    "arr = np.array([1, 2, 3, 4,4,5,6,8,8,9])\n",
    "new=arr.reshape(2,5)\n",
    "new"
   ]
  },
  {
   "cell_type": "code",
   "execution_count": 23,
   "id": "5449b7b0",
   "metadata": {},
   "outputs": [
    {
     "data": {
      "text/plain": [
       "array([[[1, 2],\n",
       "        [3, 4],\n",
       "        [4, 5]],\n",
       "\n",
       "       [[6, 8],\n",
       "        [8, 9],\n",
       "        [1, 2]]])"
      ]
     },
     "execution_count": 23,
     "metadata": {},
     "output_type": "execute_result"
    }
   ],
   "source": [
    "#1-D to 3-D\n",
    "arr = np.array([1, 2, 3, 4,4,5,6,8,8,9,1,2])\n",
    "new=arr.reshape(2,3,2)\n",
    "new"
   ]
  },
  {
   "cell_type": "code",
   "execution_count": 24,
   "id": "022a2a23",
   "metadata": {},
   "outputs": [
    {
     "name": "stdout",
     "output_type": "stream",
     "text": [
      "[1 2 3 4 5 6 7 8]\n"
     ]
    }
   ],
   "source": [
    "arr = np.array([1, 2, 3, 4, 5, 6, 7, 8])\n",
    "print(arr.reshape(2, 4).base)     #returns the original array, so it is a view."
   ]
  },
  {
   "cell_type": "code",
   "execution_count": 25,
   "id": "38109116",
   "metadata": {},
   "outputs": [
    {
     "name": "stdout",
     "output_type": "stream",
     "text": [
      "[1 2 3 4 5 6]\n"
     ]
    }
   ],
   "source": [
    "# converting a multidimensional array into a 1D array.\n",
    "arr = np.array([[1, 2, 3], [4, 5, 6]])\n",
    "new = arr.reshape(-1)\n",
    "print(new)"
   ]
  },
  {
   "cell_type": "markdown",
   "id": "1e79031f",
   "metadata": {},
   "source": [
    "# Slicing"
   ]
  },
  {
   "cell_type": "code",
   "execution_count": 26,
   "id": "407f1235",
   "metadata": {},
   "outputs": [
    {
     "data": {
      "text/plain": [
       "array([1, 2])"
      ]
     },
     "execution_count": 26,
     "metadata": {},
     "output_type": "execute_result"
    }
   ],
   "source": [
    "#array slicing\n",
    "arr=np.array([1, 2, 3, 4])\n",
    "arr[0:2]"
   ]
  },
  {
   "cell_type": "code",
   "execution_count": 27,
   "id": "49802f6a",
   "metadata": {},
   "outputs": [
    {
     "data": {
      "text/plain": [
       "array([3, 4])"
      ]
     },
     "execution_count": 27,
     "metadata": {},
     "output_type": "execute_result"
    }
   ],
   "source": [
    "arr[2:]"
   ]
  },
  {
   "cell_type": "code",
   "execution_count": 28,
   "id": "cfa8b70c",
   "metadata": {},
   "outputs": [
    {
     "data": {
      "text/plain": [
       "array([1, 2, 3])"
      ]
     },
     "execution_count": 28,
     "metadata": {},
     "output_type": "execute_result"
    }
   ],
   "source": [
    "arr[:3]"
   ]
  },
  {
   "cell_type": "code",
   "execution_count": 29,
   "id": "ed8edf70",
   "metadata": {},
   "outputs": [
    {
     "data": {
      "text/plain": [
       "array([2, 3])"
      ]
     },
     "execution_count": 29,
     "metadata": {},
     "output_type": "execute_result"
    }
   ],
   "source": [
    "#negative slicing\n",
    "arr[-3:-1]"
   ]
  },
  {
   "cell_type": "code",
   "execution_count": 30,
   "id": "34958b44",
   "metadata": {},
   "outputs": [
    {
     "data": {
      "text/plain": [
       "array([1, 2, 3])"
      ]
     },
     "execution_count": 30,
     "metadata": {},
     "output_type": "execute_result"
    }
   ],
   "source": [
    "arr[:-1]"
   ]
  },
  {
   "cell_type": "code",
   "execution_count": 31,
   "id": "489751f0",
   "metadata": {},
   "outputs": [
    {
     "data": {
      "text/plain": [
       "array([1, 3])"
      ]
     },
     "execution_count": 31,
     "metadata": {},
     "output_type": "execute_result"
    }
   ],
   "source": [
    "arr[0:4:2]"
   ]
  },
  {
   "cell_type": "code",
   "execution_count": 32,
   "id": "c3b978d7",
   "metadata": {},
   "outputs": [
    {
     "data": {
      "text/plain": [
       "array([1, 3])"
      ]
     },
     "execution_count": 32,
     "metadata": {},
     "output_type": "execute_result"
    }
   ],
   "source": [
    "arr[::2]"
   ]
  },
  {
   "cell_type": "code",
   "execution_count": 33,
   "id": "7a6d4a6f",
   "metadata": {},
   "outputs": [
    {
     "data": {
      "text/plain": [
       "array([3, 5])"
      ]
     },
     "execution_count": 33,
     "metadata": {},
     "output_type": "execute_result"
    }
   ],
   "source": [
    "# Slicing 2-D Arrays\n",
    "t=np.array([[1,2,3,4,5],[3,5,6,7,8]])\n",
    "t[1,0:2]"
   ]
  },
  {
   "cell_type": "code",
   "execution_count": 34,
   "id": "f919fa5c",
   "metadata": {},
   "outputs": [
    {
     "data": {
      "text/plain": [
       "array([3, 6])"
      ]
     },
     "execution_count": 34,
     "metadata": {},
     "output_type": "execute_result"
    }
   ],
   "source": [
    "# From both elements, return index 2:\n",
    "t[0:2,2]"
   ]
  },
  {
   "cell_type": "code",
   "execution_count": 35,
   "id": "1f68ec98",
   "metadata": {},
   "outputs": [
    {
     "data": {
      "text/plain": [
       "array([[3, 4],\n",
       "       [6, 7]])"
      ]
     },
     "execution_count": 35,
     "metadata": {},
     "output_type": "execute_result"
    }
   ],
   "source": [
    "t[0:2,2:4]"
   ]
  },
  {
   "cell_type": "markdown",
   "id": "c356f063",
   "metadata": {},
   "source": [
    "# Numpy Data Types\n"
   ]
  },
  {
   "cell_type": "code",
   "execution_count": 36,
   "id": "47e443f7",
   "metadata": {},
   "outputs": [],
   "source": [
    "# i - integer\n",
    "# b - boolean\n",
    "# u - unsigned integer\n",
    "# f - float\n",
    "# c - complex float\n",
    "# m - timedelta\n",
    "# M - datetime\n",
    "# O - object\n",
    "# S - string\n",
    "# U - unicode string\n",
    "# # V - fixed chunk of memory for other type ( void )"
   ]
  },
  {
   "cell_type": "code",
   "execution_count": 37,
   "id": "07589cc8",
   "metadata": {},
   "outputs": [
    {
     "name": "stdout",
     "output_type": "stream",
     "text": [
      "int32\n"
     ]
    }
   ],
   "source": [
    "arr=np.array([1, 2, 3, 4])\n",
    "print(arr.dtype)"
   ]
  },
  {
   "cell_type": "code",
   "execution_count": 38,
   "id": "aa502eab",
   "metadata": {},
   "outputs": [
    {
     "name": "stdout",
     "output_type": "stream",
     "text": [
      "<U6\n"
     ]
    }
   ],
   "source": [
    "ar=np.array(['qasim','haider','khawer'])\n",
    "print(ar.dtype)"
   ]
  },
  {
   "cell_type": "code",
   "execution_count": 39,
   "id": "1fed6741",
   "metadata": {},
   "outputs": [
    {
     "name": "stdout",
     "output_type": "stream",
     "text": [
      "[b'1' b'2' b'3' b'4']\n",
      "|S1\n"
     ]
    }
   ],
   "source": [
    "arr=np.array([1, 2, 3, 4],dtype='S')\n",
    "print(arr)\n",
    "print(arr.dtype)"
   ]
  },
  {
   "cell_type": "code",
   "execution_count": 40,
   "id": "d4d63f4b",
   "metadata": {},
   "outputs": [
    {
     "name": "stdout",
     "output_type": "stream",
     "text": [
      "[1 2 3 4]\n",
      "int32\n"
     ]
    }
   ],
   "source": [
    "arr = np.array([1, 2, 3, 4], dtype='i4')\n",
    "print(arr)\n",
    "print(arr.dtype)"
   ]
  },
  {
   "cell_type": "code",
   "execution_count": 41,
   "id": "e1020a99",
   "metadata": {},
   "outputs": [
    {
     "data": {
      "text/plain": [
       "array([b'1', b'2', b'3', b'4'], dtype='|S11')"
      ]
     },
     "execution_count": 41,
     "metadata": {},
     "output_type": "execute_result"
    }
   ],
   "source": [
    "# Converting Data Type on Existing Arrays\n",
    "arr = np.array([1, 2, 3, 4])\n",
    "new_arr=arr.astype('S')\n",
    "new_arr"
   ]
  },
  {
   "cell_type": "code",
   "execution_count": 42,
   "id": "863b1e01",
   "metadata": {},
   "outputs": [
    {
     "name": "stdout",
     "output_type": "stream",
     "text": [
      "[ True False  True]\n",
      "bool\n"
     ]
    }
   ],
   "source": [
    "arr = np.array([1, 0, 3])\n",
    "newarr = arr.astype(bool)\n",
    "print(newarr)\n",
    "print(newarr.dtype)"
   ]
  },
  {
   "cell_type": "markdown",
   "id": "19117ab9",
   "metadata": {},
   "source": [
    "# Array Copy and View"
   ]
  },
  {
   "cell_type": "code",
   "execution_count": 43,
   "id": "1d91d92c",
   "metadata": {},
   "outputs": [
    {
     "name": "stdout",
     "output_type": "stream",
     "text": [
      "[1 2 3 4]\n",
      "[22  2  3  4]\n"
     ]
    }
   ],
   "source": [
    "arr = np.array([1, 2, 3, 4])\n",
    "c=arr.copy()\n",
    "c[0]=22\n",
    "print(arr)\n",
    "print(c)"
   ]
  },
  {
   "cell_type": "code",
   "execution_count": 44,
   "id": "0cad4a2c",
   "metadata": {},
   "outputs": [
    {
     "name": "stdout",
     "output_type": "stream",
     "text": [
      "[22  2  3  4]\n",
      "[22  2  3  4]\n"
     ]
    }
   ],
   "source": [
    "arr = np.array([1, 2, 3, 4])\n",
    "c=arr.view()\n",
    "c[0]=22\n",
    "print(arr)\n",
    "print(c)"
   ]
  },
  {
   "cell_type": "code",
   "execution_count": 45,
   "id": "1c2c8414",
   "metadata": {},
   "outputs": [
    {
     "name": "stdout",
     "output_type": "stream",
     "text": [
      "None\n",
      "[1 2 3 4 5]\n"
     ]
    }
   ],
   "source": [
    "arr = np.array([1, 2, 3, 4, 5])\n",
    "x = arr.copy()   #array own data and return none\n",
    "y = arr.view()    #doesn't own data and return array\n",
    "print(x.base)   \n",
    "print(y.base)"
   ]
  },
  {
   "cell_type": "markdown",
   "id": "b069762d",
   "metadata": {},
   "source": [
    "# Array Iterating"
   ]
  },
  {
   "cell_type": "code",
   "execution_count": 46,
   "id": "54573f41",
   "metadata": {},
   "outputs": [
    {
     "name": "stdout",
     "output_type": "stream",
     "text": [
      "1\n",
      "2\n",
      "3\n",
      "4\n"
     ]
    }
   ],
   "source": [
    "# 1-D\n",
    "arr = np.array([1, 2, 3, 4])\n",
    "for x in arr:\n",
    "    print(x)"
   ]
  },
  {
   "cell_type": "code",
   "execution_count": 47,
   "id": "1695ceb2",
   "metadata": {},
   "outputs": [
    {
     "name": "stdout",
     "output_type": "stream",
     "text": [
      "[1 2 3 4 5]\n",
      "[3 5 6 7 8]\n"
     ]
    }
   ],
   "source": [
    "#2-D\n",
    "t=np.array([[1,2,3,4,5],[3,5,6,7,8]])\n",
    "for x in t:\n",
    "    print(x)"
   ]
  },
  {
   "cell_type": "code",
   "execution_count": 48,
   "id": "4d723236",
   "metadata": {
    "scrolled": true
   },
   "outputs": [
    {
     "name": "stdout",
     "output_type": "stream",
     "text": [
      "1\n",
      "2\n",
      "3\n",
      "4\n",
      "5\n",
      "3\n",
      "5\n",
      "6\n",
      "7\n",
      "8\n"
     ]
    }
   ],
   "source": [
    "t=np.array([[1,2,3,4,5],[3,5,6,7,8]])\n",
    "for x in t:\n",
    "    for y in x:\n",
    "        print(y)"
   ]
  },
  {
   "cell_type": "code",
   "execution_count": 49,
   "id": "0e572de6",
   "metadata": {},
   "outputs": [
    {
     "name": "stdout",
     "output_type": "stream",
     "text": [
      "[[1 2 3 4 5]\n",
      " [3 5 6 7 8]]\n",
      "[[2 5 4 3 4]\n",
      " [3 5 6 7 8]]\n"
     ]
    }
   ],
   "source": [
    "#3-D array\n",
    "arr3=np.array([[[1,2,3,4,5],[3,5,6,7,8]],[[2,5,4,3,4],[3,5,6,7,8]]])\n",
    "for x in arr3:\n",
    "    print(x)"
   ]
  },
  {
   "cell_type": "code",
   "execution_count": 50,
   "id": "013b328c",
   "metadata": {},
   "outputs": [
    {
     "name": "stdout",
     "output_type": "stream",
     "text": [
      "[1 2 3 4 5]\n",
      "[3 5 6 7 8]\n",
      "[2 5 4 3 4]\n",
      "[3 5 6 7 8]\n"
     ]
    }
   ],
   "source": [
    "arr3=np.array([[[1,2,3,4,5],[3,5,6,7,8]],[[2,5,4,3,4],[3,5,6,7,8]]])\n",
    "for x in arr3:\n",
    "    for y in x:\n",
    "        print(y)\n",
    "    "
   ]
  },
  {
   "cell_type": "code",
   "execution_count": 51,
   "id": "890ef047",
   "metadata": {},
   "outputs": [
    {
     "name": "stdout",
     "output_type": "stream",
     "text": [
      "1\n",
      "2\n",
      "3\n",
      "4\n",
      "5\n",
      "3\n",
      "5\n",
      "6\n",
      "7\n",
      "8\n",
      "2\n",
      "5\n",
      "4\n",
      "3\n",
      "4\n",
      "3\n",
      "5\n",
      "6\n",
      "7\n",
      "8\n"
     ]
    }
   ],
   "source": [
    "arr3=np.array([[[1,2,3,4,5],[3,5,6,7,8]],[[2,5,4,3,4],[3,5,6,7,8]]])\n",
    "for x in arr3:\n",
    "    for y in x:\n",
    "        for z in y:\n",
    "            print(z)"
   ]
  },
  {
   "cell_type": "code",
   "execution_count": 52,
   "id": "005a8058",
   "metadata": {},
   "outputs": [
    {
     "name": "stdout",
     "output_type": "stream",
     "text": [
      "1\n",
      "2\n",
      "3\n",
      "4\n",
      "5\n",
      "3\n",
      "5\n",
      "6\n",
      "7\n",
      "8\n",
      "2\n",
      "5\n",
      "4\n",
      "3\n",
      "4\n",
      "3\n",
      "5\n",
      "6\n",
      "7\n",
      "8\n"
     ]
    }
   ],
   "source": [
    "# Iterating Arrays Using nditer()\n",
    "arr3=np.array([[[1,2,3,4,5],[3,5,6,7,8]],[[2,5,4,3,4],[3,5,6,7,8]]])\n",
    "for x in np.nditer(arr3):\n",
    "    print(x)"
   ]
  },
  {
   "cell_type": "code",
   "execution_count": 53,
   "id": "33fcf0bf",
   "metadata": {},
   "outputs": [
    {
     "name": "stdout",
     "output_type": "stream",
     "text": [
      "b'1'\n",
      "b'2'\n",
      "b'3'\n",
      "b'4'\n",
      "b'5'\n"
     ]
    }
   ],
   "source": [
    "# Iterating Array With Different Data Types\n",
    "arr3=np.array([1,2,3,4,5])\n",
    "for x in np.nditer(arr3, flags=['buffered'], op_dtypes=['S']):\n",
    "    print(x)"
   ]
  },
  {
   "cell_type": "code",
   "execution_count": 54,
   "id": "ea2cb4ae",
   "metadata": {},
   "outputs": [
    {
     "name": "stdout",
     "output_type": "stream",
     "text": [
      "1\n",
      "4\n",
      "3\n",
      "7\n"
     ]
    }
   ],
   "source": [
    "t=np.array([[1,2,3,4,5],[3,5,6,7,8]])\n",
    "for x in np.nditer(t[:,::3]):\n",
    "    print(x)"
   ]
  },
  {
   "cell_type": "code",
   "execution_count": 55,
   "id": "720f416e",
   "metadata": {},
   "outputs": [
    {
     "name": "stdout",
     "output_type": "stream",
     "text": [
      "((0,), 1)\n",
      "((1,), 2)\n",
      "((2,), 3)\n",
      "((3,), 4)\n",
      "((4,), 5)\n"
     ]
    }
   ],
   "source": [
    "# Enumerated Iteration Using ndenumerate()\n",
    "arr3=np.array([1,2,3,4,5])\n",
    "for x in np.ndenumerate(arr3):\n",
    "    print(x)"
   ]
  },
  {
   "cell_type": "markdown",
   "id": "ea5153bd",
   "metadata": {},
   "source": [
    "# Joining NumPy Array"
   ]
  },
  {
   "cell_type": "code",
   "execution_count": 56,
   "id": "4e9ec0d2",
   "metadata": {},
   "outputs": [
    {
     "data": {
      "text/plain": [
       "array([1, 2, 3, 4, 5, 5, 7, 6, 5, 5])"
      ]
     },
     "execution_count": 56,
     "metadata": {},
     "output_type": "execute_result"
    }
   ],
   "source": [
    "#concatenate\n",
    "arr3=np.array([1,2,3,4,5])\n",
    "arr4=np.array([5,7,6,5,5])\n",
    "arr=np.concatenate((arr3,arr4))\n",
    "arr"
   ]
  },
  {
   "cell_type": "code",
   "execution_count": 57,
   "id": "3b013230",
   "metadata": {},
   "outputs": [
    {
     "name": "stdout",
     "output_type": "stream",
     "text": [
      "[[1 2 5 6]\n",
      " [3 4 7 8]]\n"
     ]
    }
   ],
   "source": [
    "arr1 = np.array([[1, 2], [3, 4]])\n",
    "arr2 = np.array([[5, 6], [7, 8]])\n",
    "arr = np.concatenate((arr1, arr2), axis=1)\n",
    "print(arr)\n"
   ]
  },
  {
   "cell_type": "code",
   "execution_count": 58,
   "id": "23f34c29",
   "metadata": {},
   "outputs": [
    {
     "name": "stdout",
     "output_type": "stream",
     "text": [
      "[[1 4]\n",
      " [2 5]\n",
      " [3 6]]\n"
     ]
    }
   ],
   "source": [
    "#stack\n",
    "arr1 = np.array([1, 2, 3])\n",
    "arr2 = np.array([4, 5, 6])\n",
    "arr = np.stack((arr1, arr2), axis=1)\n",
    "print(arr)"
   ]
  },
  {
   "cell_type": "code",
   "execution_count": 59,
   "id": "5fae3369",
   "metadata": {},
   "outputs": [
    {
     "name": "stdout",
     "output_type": "stream",
     "text": [
      "[1 2 3 4 5 6]\n"
     ]
    }
   ],
   "source": [
    "#hstack\n",
    "arr1 = np.array([1, 2, 3])\n",
    "arr2 = np.array([4, 5, 6])\n",
    "arr = np.hstack((arr1, arr2))\n",
    "print(arr)\n"
   ]
  },
  {
   "cell_type": "code",
   "execution_count": 60,
   "id": "a1d4d8f4",
   "metadata": {},
   "outputs": [
    {
     "name": "stdout",
     "output_type": "stream",
     "text": [
      "[[1 2 3]\n",
      " [4 5 6]]\n"
     ]
    }
   ],
   "source": [
    "#vstack\n",
    "arr1 = np.array([1, 2, 3])\n",
    "arr2 = np.array([4, 5, 6])\n",
    "arr = np.vstack((arr1, arr2))\n",
    "print(arr)"
   ]
  },
  {
   "cell_type": "code",
   "execution_count": 61,
   "id": "885a0610",
   "metadata": {},
   "outputs": [
    {
     "name": "stdout",
     "output_type": "stream",
     "text": [
      "[[[1 4]\n",
      "  [2 5]\n",
      "  [3 6]]]\n"
     ]
    }
   ],
   "source": [
    "#dstack\n",
    "arr1 = np.array([1, 2, 3])\n",
    "arr2 = np.array([4, 5, 6])\n",
    "arr = np.dstack((arr1, arr2))\n",
    "print(arr)"
   ]
  },
  {
   "cell_type": "markdown",
   "id": "97793e1f",
   "metadata": {},
   "source": [
    "# Splitting Array"
   ]
  },
  {
   "cell_type": "code",
   "execution_count": 62,
   "id": "03e885e1",
   "metadata": {},
   "outputs": [
    {
     "data": {
      "text/plain": [
       "[array([5, 7]), array([6, 5]), array([5, 5])]"
      ]
     },
     "execution_count": 62,
     "metadata": {},
     "output_type": "execute_result"
    }
   ],
   "source": [
    "#1-D\n",
    "arr4=np.array([5,7,6,5,5,5])\n",
    "arr=np.split(arr4,3)\n",
    "arr"
   ]
  },
  {
   "cell_type": "code",
   "execution_count": 63,
   "id": "2af5ce84",
   "metadata": {},
   "outputs": [
    {
     "data": {
      "text/plain": [
       "[array([[1, 2],\n",
       "        [3, 4]]),\n",
       " array([[5, 6],\n",
       "        [7, 8]]),\n",
       " array([[ 9, 10],\n",
       "        [11, 12]])]"
      ]
     },
     "execution_count": 63,
     "metadata": {},
     "output_type": "execute_result"
    }
   ],
   "source": [
    "# Splitting 2-D Arrays\n",
    "arr2 = np.array([[1, 2], [3, 4], [5, 6], [7, 8], [9, 10], [11, 12]])\n",
    "arr=np.split(arr2,3)\n",
    "arr"
   ]
  },
  {
   "cell_type": "code",
   "execution_count": 64,
   "id": "e3b8757a",
   "metadata": {},
   "outputs": [
    {
     "data": {
      "text/plain": [
       "[array([[ 1],\n",
       "        [ 3],\n",
       "        [ 5],\n",
       "        [ 7],\n",
       "        [ 9],\n",
       "        [11]]),\n",
       " array([[ 2],\n",
       "        [ 4],\n",
       "        [ 6],\n",
       "        [ 8],\n",
       "        [10],\n",
       "        [12]])]"
      ]
     },
     "execution_count": 64,
     "metadata": {},
     "output_type": "execute_result"
    }
   ],
   "source": [
    "# Splitting 2-D Arrays\n",
    "arr2 = np.array([[1, 2], [3, 4], [5, 6], [7, 8], [9, 10], [11, 12]])\n",
    "arr=np.split(arr2,2,axis=1)\n",
    "arr"
   ]
  },
  {
   "cell_type": "code",
   "execution_count": 65,
   "id": "a54ee90c",
   "metadata": {},
   "outputs": [
    {
     "name": "stdout",
     "output_type": "stream",
     "text": [
      "[array([[ 1],\n",
      "       [ 4],\n",
      "       [ 7],\n",
      "       [10],\n",
      "       [13],\n",
      "       [16]]), array([[ 2],\n",
      "       [ 5],\n",
      "       [ 8],\n",
      "       [11],\n",
      "       [14],\n",
      "       [17]]), array([[ 3],\n",
      "       [ 6],\n",
      "       [ 9],\n",
      "       [12],\n",
      "       [15],\n",
      "       [18]])]\n"
     ]
    }
   ],
   "source": [
    "# hsplit()\n",
    "arr = np.array([[1, 2, 3], [4, 5, 6], [7, 8, 9], [10, 11, 12], [13, 14, 15], [16, 17, 18]])\n",
    "new = np.hsplit(arr, 3)\n",
    "print(new)"
   ]
  },
  {
   "cell_type": "markdown",
   "id": "b6562f83",
   "metadata": {},
   "source": [
    "# Searching Arrays"
   ]
  },
  {
   "cell_type": "code",
   "execution_count": 66,
   "id": "37dfa21a",
   "metadata": {},
   "outputs": [
    {
     "data": {
      "text/plain": [
       "(array([2], dtype=int64),)"
      ]
     },
     "execution_count": 66,
     "metadata": {},
     "output_type": "execute_result"
    }
   ],
   "source": [
    "#  where() method.\n",
    "arr4=np.array([5,7,6,5,5,5])\n",
    "x=np.where(arr4==6)\n",
    "x"
   ]
  },
  {
   "cell_type": "code",
   "execution_count": 67,
   "id": "9a534be4",
   "metadata": {},
   "outputs": [
    {
     "data": {
      "text/plain": [
       "(array([0, 1, 3, 5], dtype=int64),)"
      ]
     },
     "execution_count": 67,
     "metadata": {},
     "output_type": "execute_result"
    }
   ],
   "source": [
    "#  indexes where the values are even\n",
    "arr4=np.array([2,4,5,6,7,8])\n",
    "x=np.where(arr4%2==0)\n",
    "x"
   ]
  },
  {
   "cell_type": "code",
   "execution_count": 68,
   "id": "c98d0bb5",
   "metadata": {},
   "outputs": [
    {
     "data": {
      "text/plain": [
       "3"
      ]
     },
     "execution_count": 68,
     "metadata": {},
     "output_type": "execute_result"
    }
   ],
   "source": [
    "# searchsorted()\n",
    "arr=np.array([1,3,4,5,6,7,6])\n",
    "x=np.searchsorted(arr,5)\n",
    "x"
   ]
  },
  {
   "cell_type": "code",
   "execution_count": 69,
   "id": "6c82b58c",
   "metadata": {
    "scrolled": true
   },
   "outputs": [
    {
     "name": "stdout",
     "output_type": "stream",
     "text": [
      "[1 2 3]\n"
     ]
    }
   ],
   "source": [
    "# indexes where the values 2, 4, and 6 should be inserted:\n",
    "arr = np.array([1, 3, 5, 7])\n",
    "x = np.searchsorted(arr, [2, 4, 6])\n",
    "print(x)"
   ]
  },
  {
   "cell_type": "markdown",
   "id": "ee427819",
   "metadata": {},
   "source": [
    "# Sorting Arrays"
   ]
  },
  {
   "cell_type": "code",
   "execution_count": 70,
   "id": "7126be7c",
   "metadata": {},
   "outputs": [
    {
     "data": {
      "text/plain": [
       "array([1, 3, 4, 5, 6, 6, 7])"
      ]
     },
     "execution_count": 70,
     "metadata": {},
     "output_type": "execute_result"
    }
   ],
   "source": [
    "# Sorting Arrays\n",
    "arr=np.array([1,3,4,5,6,7,6])\n",
    "x=np.sort(arr)\n",
    "x"
   ]
  },
  {
   "cell_type": "code",
   "execution_count": 71,
   "id": "f32ddcb2",
   "metadata": {},
   "outputs": [
    {
     "name": "stdout",
     "output_type": "stream",
     "text": [
      "['apple' 'banana' 'cherry']\n"
     ]
    }
   ],
   "source": [
    "# string\n",
    "arr = np.array(['banana', 'cherry', 'apple'])\n",
    "print(np.sort(arr))"
   ]
  },
  {
   "cell_type": "code",
   "execution_count": 72,
   "id": "f2b3c8cc",
   "metadata": {},
   "outputs": [
    {
     "name": "stdout",
     "output_type": "stream",
     "text": [
      "[False  True  True]\n"
     ]
    }
   ],
   "source": [
    "# boolian\n",
    "arr = np.array([True, False, True])\n",
    "print(np.sort(arr))"
   ]
  },
  {
   "cell_type": "code",
   "execution_count": 73,
   "id": "c06678fb",
   "metadata": {},
   "outputs": [
    {
     "name": "stdout",
     "output_type": "stream",
     "text": [
      "[[1 2 3 4 5]\n",
      " [3 5 6 7 8]]\n"
     ]
    }
   ],
   "source": [
    "t=np.array([[1,4,5,2,3],[3,5,8,7,6]])\n",
    "print(np.sort(t))"
   ]
  },
  {
   "cell_type": "markdown",
   "id": "e0b23918",
   "metadata": {},
   "source": [
    "# Filter Array"
   ]
  },
  {
   "cell_type": "code",
   "execution_count": 74,
   "id": "a296e628",
   "metadata": {},
   "outputs": [
    {
     "data": {
      "text/plain": [
       "array([1, 5, 2])"
      ]
     },
     "execution_count": 74,
     "metadata": {},
     "output_type": "execute_result"
    }
   ],
   "source": [
    "# Filter Array\n",
    "arr=np.array([1,4,5,2,3])\n",
    "x=[True,False,True,True,False]\n",
    "new=arr[x]\n",
    "new"
   ]
  },
  {
   "cell_type": "code",
   "execution_count": 75,
   "id": "d59cac1d",
   "metadata": {},
   "outputs": [
    {
     "name": "stdout",
     "output_type": "stream",
     "text": [
      "[False, True, True, False, True]\n",
      "[4 5 3]\n"
     ]
    }
   ],
   "source": [
    "arr=np.array([1,4,5,2,3])\n",
    "filter_arr=[]\n",
    "for i in arr:\n",
    "    if i>2:\n",
    "        filter_arr.append(True)\n",
    "    else:\n",
    "        filter_arr.append(False)\n",
    "new=arr[filter_arr]\n",
    "print(filter_arr)\n",
    "print(new)"
   ]
  },
  {
   "cell_type": "code",
   "execution_count": 76,
   "id": "c42534b3",
   "metadata": {},
   "outputs": [
    {
     "name": "stdout",
     "output_type": "stream",
     "text": [
      "[False, True, False, True, False, True, False]\n",
      "[2 4 6]\n"
     ]
    }
   ],
   "source": [
    "arr = np.array([1, 2, 3, 4, 5, 6, 7])\n",
    "filter_arr = []\n",
    "for element in arr:\n",
    "    if element % 2 == 0:\n",
    "        filter_arr.append(True)\n",
    "    else:\n",
    "        filter_arr.append(False)\n",
    "new = arr[filter_arr]\n",
    "print(filter_arr)\n",
    "print(new)"
   ]
  },
  {
   "cell_type": "code",
   "execution_count": 77,
   "id": "f0321a7f",
   "metadata": {},
   "outputs": [
    {
     "data": {
      "text/plain": [
       "array([2, 4, 6])"
      ]
     },
     "execution_count": 77,
     "metadata": {},
     "output_type": "execute_result"
    }
   ],
   "source": [
    "# Creating Filter Directly From Array\n",
    "arr = np.array([1, 2, 3, 4, 5, 6, 7])\n",
    "filter_arr=arr%2==0\n",
    "new=arr[filter_arr]\n",
    "new"
   ]
  },
  {
   "cell_type": "markdown",
   "id": "eb9b9ce0",
   "metadata": {},
   "source": [
    "# Random Numbers in NumPy"
   ]
  },
  {
   "cell_type": "code",
   "execution_count": 78,
   "id": "cc4a8279",
   "metadata": {},
   "outputs": [],
   "source": [
    "from numpy import random"
   ]
  },
  {
   "cell_type": "code",
   "execution_count": 79,
   "id": "7f2ac90e",
   "metadata": {},
   "outputs": [
    {
     "data": {
      "text/plain": [
       "33"
      ]
     },
     "execution_count": 79,
     "metadata": {},
     "output_type": "execute_result"
    }
   ],
   "source": [
    "# random number b/t 1-100\n",
    "x=random.randint(100)\n",
    "x"
   ]
  },
  {
   "cell_type": "code",
   "execution_count": 80,
   "id": "0db76069",
   "metadata": {},
   "outputs": [
    {
     "data": {
      "text/plain": [
       "0.517305474622726"
      ]
     },
     "execution_count": 80,
     "metadata": {},
     "output_type": "execute_result"
    }
   ],
   "source": [
    "# Generate Random Float\n",
    "x=random.rand()\n",
    "x"
   ]
  },
  {
   "cell_type": "code",
   "execution_count": 81,
   "id": "fe133404",
   "metadata": {},
   "outputs": [
    {
     "data": {
      "text/plain": [
       "array([ 0, 11, 93, 18, 48])"
      ]
     },
     "execution_count": 81,
     "metadata": {},
     "output_type": "execute_result"
    }
   ],
   "source": [
    "# Random Array(1-D)\n",
    "x=random.randint(100,size=5)\n",
    "x"
   ]
  },
  {
   "cell_type": "code",
   "execution_count": 82,
   "id": "4ff9792d",
   "metadata": {},
   "outputs": [
    {
     "data": {
      "text/plain": [
       "array([0.1198132 , 0.56488966, 0.37837064, 0.63551338, 0.35970927])"
      ]
     },
     "execution_count": 82,
     "metadata": {},
     "output_type": "execute_result"
    }
   ],
   "source": [
    "x=random.rand(5)\n",
    "x"
   ]
  },
  {
   "cell_type": "code",
   "execution_count": 83,
   "id": "44ccc807",
   "metadata": {},
   "outputs": [
    {
     "data": {
      "text/plain": [
       "array([[61, 63, 53, 18],\n",
       "       [ 3, 77, 40, 93],\n",
       "       [72, 61, 94, 15]])"
      ]
     },
     "execution_count": 83,
     "metadata": {},
     "output_type": "execute_result"
    }
   ],
   "source": [
    "# 2-D\n",
    "x=random.randint(100,size=(3,4))\n",
    "x"
   ]
  },
  {
   "cell_type": "code",
   "execution_count": 84,
   "id": "c41e4595",
   "metadata": {},
   "outputs": [
    {
     "data": {
      "text/plain": [
       "array([[0.91060584, 0.9396202 , 0.29990491, 0.62449396],\n",
       "       [0.77221079, 0.66588682, 0.17773541, 0.09869656],\n",
       "       [0.22108347, 0.21534502, 0.74052595, 0.49890933]])"
      ]
     },
     "execution_count": 84,
     "metadata": {},
     "output_type": "execute_result"
    }
   ],
   "source": [
    "x=random.rand(3,4)\n",
    "x"
   ]
  },
  {
   "cell_type": "code",
   "execution_count": 85,
   "id": "c82187f5",
   "metadata": {},
   "outputs": [
    {
     "name": "stdout",
     "output_type": "stream",
     "text": [
      "3\n"
     ]
    }
   ],
   "source": [
    "# choice\n",
    "x = random.choice([3, 5, 7, 9])\n",
    "print(x)"
   ]
  },
  {
   "cell_type": "code",
   "execution_count": 86,
   "id": "914bac8a",
   "metadata": {},
   "outputs": [
    {
     "name": "stdout",
     "output_type": "stream",
     "text": [
      "[[3 9 9 5 3]\n",
      " [5 5 3 3 3]\n",
      " [5 3 3 7 3]]\n"
     ]
    }
   ],
   "source": [
    "x = random.choice([3, 5, 7, 9], size=(3, 5))\n",
    "print(x)"
   ]
  },
  {
   "cell_type": "code",
   "execution_count": 87,
   "id": "0c0ac21e",
   "metadata": {},
   "outputs": [],
   "source": [
    "# Random Distribution"
   ]
  },
  {
   "cell_type": "code",
   "execution_count": 88,
   "id": "d7a00757",
   "metadata": {},
   "outputs": [
    {
     "name": "stdout",
     "output_type": "stream",
     "text": [
      "[7 7 5 5 5 7 7 3 7 5]\n"
     ]
    }
   ],
   "source": [
    "# Generate a 1-D array containing 100 values, where each value has to be 3, 5, 7 or 9.\n",
    "# The probability for the value to be 3 is set to be 0.1\n",
    "# The probability for the value to be 5 is set to be 0.3\n",
    "# The probability for the value to be 7 is set to be 0.6\n",
    "# The probability for the value to be 9 is set to be 0\n",
    "x = random.choice([3, 5, 7, 9], p=[0.2, 0.3, 0.5, 0.0],size=(10))  #The sum of all probability numbers should be 1 \n",
    "print(x)"
   ]
  },
  {
   "cell_type": "code",
   "execution_count": 89,
   "id": "bd88c4c7",
   "metadata": {},
   "outputs": [
    {
     "data": {
      "text/plain": [
       "array([[5, 5, 5, 5, 5],\n",
       "       [5, 3, 5, 5, 5],\n",
       "       [5, 3, 5, 3, 5]])"
      ]
     },
     "execution_count": 89,
     "metadata": {},
     "output_type": "execute_result"
    }
   ],
   "source": [
    "x = random.choice([3, 5, 7, 9],p=[0.3,0.7,0.0,0.0],size=(3,5))\n",
    "x"
   ]
  },
  {
   "cell_type": "markdown",
   "id": "eeb57621",
   "metadata": {},
   "source": [
    "# Random Permutations"
   ]
  },
  {
   "cell_type": "code",
   "execution_count": 90,
   "id": "29cef029",
   "metadata": {},
   "outputs": [
    {
     "data": {
      "text/plain": [
       "array([3, 1, 5, 2, 4])"
      ]
     },
     "execution_count": 90,
     "metadata": {},
     "output_type": "execute_result"
    }
   ],
   "source": [
    "# Shuffling Arrays\n",
    "arr=np.array([1,2,3,4,5])\n",
    "random.shuffle(arr)   #he shuffle() method makes changes to the original array.\n",
    "arr"
   ]
  },
  {
   "cell_type": "code",
   "execution_count": 91,
   "id": "104149e2",
   "metadata": {},
   "outputs": [
    {
     "name": "stdout",
     "output_type": "stream",
     "text": [
      "[4 2 5 1 3]\n"
     ]
    }
   ],
   "source": [
    "arr = np.array([1, 2, 3, 4, 5])\n",
    "print(random.permutation(arr))#The permutation() method returns a re-arranged array"
   ]
  },
  {
   "cell_type": "code",
   "execution_count": 92,
   "id": "509dc966",
   "metadata": {},
   "outputs": [
    {
     "data": {
      "text/plain": [
       "array([1, 2, 3, 4, 5])"
      ]
     },
     "execution_count": 92,
     "metadata": {},
     "output_type": "execute_result"
    }
   ],
   "source": [
    "arr "
   ]
  },
  {
   "cell_type": "markdown",
   "id": "06474ce3",
   "metadata": {},
   "source": [
    "# Normal Distribution"
   ]
  },
  {
   "cell_type": "code",
   "execution_count": 93,
   "id": "7c9806f6",
   "metadata": {},
   "outputs": [
    {
     "name": "stdout",
     "output_type": "stream",
     "text": [
      "[[ 0.5472444   0.81690641  1.24547237]\n",
      " [-1.89108475  0.40130557 -1.16720971]\n",
      " [ 0.89711977 -0.92733916  0.41537851]]\n"
     ]
    }
   ],
   "source": [
    "x = random.normal(size=(3, 3))\n",
    "print(x)"
   ]
  },
  {
   "cell_type": "code",
   "execution_count": 94,
   "id": "86a30b54",
   "metadata": {},
   "outputs": [
    {
     "data": {
      "text/plain": [
       "array([[-0.71075623,  2.2274238 , -1.73526597],\n",
       "       [ 1.83836663, -0.03678993,  1.5633417 ]])"
      ]
     },
     "execution_count": 94,
     "metadata": {},
     "output_type": "execute_result"
    }
   ],
   "source": [
    "x=random.normal(loc=1,scale=2,size=(2,3))\n",
    "x"
   ]
  },
  {
   "cell_type": "markdown",
   "id": "1ec9b6ab",
   "metadata": {},
   "source": [
    "## Binomial Distribution"
   ]
  },
  {
   "cell_type": "code",
   "execution_count": 95,
   "id": "2822cfe6",
   "metadata": {},
   "outputs": [
    {
     "data": {
      "text/plain": [
       "array([4, 2, 4, 2, 3, 3, 4, 1, 2, 2])"
      ]
     },
     "execution_count": 95,
     "metadata": {},
     "output_type": "execute_result"
    }
   ],
   "source": [
    "x=random.binomial(n=10,p=0.2,size=10)\n",
    "x"
   ]
  },
  {
   "cell_type": "markdown",
   "id": "8efc0a20",
   "metadata": {},
   "source": [
    "## Poisson Distribution"
   ]
  },
  {
   "cell_type": "code",
   "execution_count": 96,
   "id": "762f4032",
   "metadata": {},
   "outputs": [
    {
     "data": {
      "text/plain": [
       "array([1, 0, 5, 0, 0, 0, 1, 1, 1, 0])"
      ]
     },
     "execution_count": 96,
     "metadata": {},
     "output_type": "execute_result"
    }
   ],
   "source": [
    "x=random.poisson(lam=2,size=10)\n",
    "x"
   ]
  },
  {
   "cell_type": "markdown",
   "id": "8de974c3",
   "metadata": {},
   "source": [
    "## Uniform Distribution"
   ]
  },
  {
   "cell_type": "code",
   "execution_count": 97,
   "id": "7293ad6f",
   "metadata": {},
   "outputs": [
    {
     "data": {
      "text/plain": [
       "array([[0.10902686, 0.38194565, 0.06786538],\n",
       "       [0.04461346, 0.84400904, 0.26057823]])"
      ]
     },
     "execution_count": 97,
     "metadata": {},
     "output_type": "execute_result"
    }
   ],
   "source": [
    "x=random.uniform(size=(2,3))\n",
    "x"
   ]
  },
  {
   "cell_type": "markdown",
   "id": "c2f43c51",
   "metadata": {},
   "source": [
    "## Logistic Distribution"
   ]
  },
  {
   "cell_type": "code",
   "execution_count": 98,
   "id": "bce5d03a",
   "metadata": {},
   "outputs": [
    {
     "data": {
      "text/plain": [
       "array([[ 7.04673107,  6.61768666,  3.20097195],\n",
       "       [ 0.93420802, -1.779311  ,  3.36964035]])"
      ]
     },
     "execution_count": 98,
     "metadata": {},
     "output_type": "execute_result"
    }
   ],
   "source": [
    "x=random.logistic(loc=1,scale=2,size=(2,3))\n",
    "x"
   ]
  },
  {
   "cell_type": "markdown",
   "id": "1361b2d1",
   "metadata": {},
   "source": [
    "## Multinomial Distribution"
   ]
  },
  {
   "cell_type": "code",
   "execution_count": 99,
   "id": "509754ac",
   "metadata": {},
   "outputs": [
    {
     "name": "stdout",
     "output_type": "stream",
     "text": [
      "[1 0 2 1 2 0]\n"
     ]
    }
   ],
   "source": [
    "x = random.multinomial(n=6, pvals=[1/6, 1/6, 1/6, 1/6, 1/6, 1/6])\n",
    "print(x)"
   ]
  },
  {
   "cell_type": "markdown",
   "id": "a68204d4",
   "metadata": {},
   "source": [
    "## Exponential Distribution"
   ]
  },
  {
   "cell_type": "code",
   "execution_count": 100,
   "id": "f8e30ec2",
   "metadata": {},
   "outputs": [
    {
     "data": {
      "text/plain": [
       "array([[1.5157203 , 0.68795312, 0.26387438],\n",
       "       [0.08142016, 0.09331851, 6.39790564]])"
      ]
     },
     "execution_count": 100,
     "metadata": {},
     "output_type": "execute_result"
    }
   ],
   "source": [
    "x=random.exponential(scale=2,size=(2,3))\n",
    "x"
   ]
  },
  {
   "cell_type": "markdown",
   "id": "a70334ef",
   "metadata": {},
   "source": [
    "## Chi Square Distribution"
   ]
  },
  {
   "cell_type": "code",
   "execution_count": 101,
   "id": "9ef27fe5",
   "metadata": {},
   "outputs": [
    {
     "data": {
      "text/plain": [
       "array([[2.98367647, 3.42887486, 1.4753517 ],\n",
       "       [1.04570352, 3.1714742 , 1.50916413]])"
      ]
     },
     "execution_count": 101,
     "metadata": {},
     "output_type": "execute_result"
    }
   ],
   "source": [
    "x=random.chisquare(df=3,size=(2,3))\n",
    "x"
   ]
  },
  {
   "cell_type": "markdown",
   "id": "d0802f96",
   "metadata": {},
   "source": [
    "## Rayleigh Distribution"
   ]
  },
  {
   "cell_type": "code",
   "execution_count": 102,
   "id": "df732e96",
   "metadata": {},
   "outputs": [
    {
     "data": {
      "text/plain": [
       "array([[4.09641312, 1.3480207 , 2.36355437],\n",
       "       [1.41544605, 2.00706758, 1.51297481]])"
      ]
     },
     "execution_count": 102,
     "metadata": {},
     "output_type": "execute_result"
    }
   ],
   "source": [
    "x=random.rayleigh(scale=2,size=(2,3))\n",
    "x"
   ]
  },
  {
   "cell_type": "markdown",
   "id": "1f11c028",
   "metadata": {},
   "source": [
    "## Pareto Distribution"
   ]
  },
  {
   "cell_type": "code",
   "execution_count": 103,
   "id": "3a54196e",
   "metadata": {},
   "outputs": [
    {
     "data": {
      "text/plain": [
       "array([[0.22662318, 0.79553407, 0.0598186 ],\n",
       "       [0.10953845, 0.34381936, 0.08642192]])"
      ]
     },
     "execution_count": 103,
     "metadata": {},
     "output_type": "execute_result"
    }
   ],
   "source": [
    "x=random.pareto(a=3,size=(2,3))\n",
    "x"
   ]
  },
  {
   "cell_type": "markdown",
   "id": "0dbae2ec",
   "metadata": {},
   "source": [
    "## Zipf Distribution"
   ]
  },
  {
   "cell_type": "code",
   "execution_count": 104,
   "id": "2048c5c8",
   "metadata": {},
   "outputs": [
    {
     "data": {
      "text/plain": [
       "array([[1, 1, 1],\n",
       "       [2, 1, 1]])"
      ]
     },
     "execution_count": 104,
     "metadata": {},
     "output_type": "execute_result"
    }
   ],
   "source": [
    "x=random.zipf(a=3,size=(2,3))\n",
    "x"
   ]
  },
  {
   "cell_type": "markdown",
   "id": "813079b6",
   "metadata": {},
   "source": [
    "# Numpy Universal Functions"
   ]
  },
  {
   "cell_type": "code",
   "execution_count": 105,
   "id": "195adec6",
   "metadata": {},
   "outputs": [
    {
     "name": "stdout",
     "output_type": "stream",
     "text": [
      "[5, 7, 9, 8, 8]\n"
     ]
    }
   ],
   "source": [
    "x=[1,2,3,4,5]\n",
    "y=[4,5,6,4,3]\n",
    "z=[]\n",
    "for i,j in zip(x,y):\n",
    "    z.append(i+j)\n",
    "print(z)"
   ]
  },
  {
   "cell_type": "code",
   "execution_count": 106,
   "id": "ced65ead",
   "metadata": {},
   "outputs": [
    {
     "data": {
      "text/plain": [
       "array([5, 7, 9, 8, 8])"
      ]
     },
     "execution_count": 106,
     "metadata": {},
     "output_type": "execute_result"
    }
   ],
   "source": [
    "# Ufunc in numpy\n",
    "x=[1,2,3,4,5]\n",
    "y=[4,5,6,4,3]\n",
    "z=np.add(x,y)\n",
    "z"
   ]
  },
  {
   "cell_type": "code",
   "execution_count": 107,
   "id": "6f5f7930",
   "metadata": {},
   "outputs": [
    {
     "name": "stdout",
     "output_type": "stream",
     "text": [
      "[3 5 7]\n"
     ]
    }
   ],
   "source": [
    "# Create Your Own ufunc\n",
    "def summ(x,y):\n",
    "    return x+y\n",
    "summ=np.frompyfunc(summ,2,1)\n",
    "print(summ([1,2,3],[2,3,4]))\n",
    "    "
   ]
  },
  {
   "cell_type": "code",
   "execution_count": 108,
   "id": "c0c42057",
   "metadata": {},
   "outputs": [
    {
     "name": "stdout",
     "output_type": "stream",
     "text": [
      "<class 'numpy.ufunc'>\n"
     ]
    }
   ],
   "source": [
    "print(type(summ))"
   ]
  },
  {
   "cell_type": "code",
   "execution_count": 109,
   "id": "01a96643",
   "metadata": {},
   "outputs": [
    {
     "data": {
      "text/plain": [
       "array([-3, -3, -3,  0,  2])"
      ]
     },
     "execution_count": 109,
     "metadata": {},
     "output_type": "execute_result"
    }
   ],
   "source": [
    "x=[1,2,3,4,5]\n",
    "y=[4,5,6,4,3]\n",
    "z=np.subtract(x,y)\n",
    "z"
   ]
  },
  {
   "cell_type": "code",
   "execution_count": 110,
   "id": "53b5d7dd",
   "metadata": {},
   "outputs": [
    {
     "data": {
      "text/plain": [
       "array([ 4, 10, 18, 16, 15])"
      ]
     },
     "execution_count": 110,
     "metadata": {},
     "output_type": "execute_result"
    }
   ],
   "source": [
    "x=[1,2,3,4,5]\n",
    "y=[4,5,6,4,3]\n",
    "z=np.multiply(x,y)\n",
    "z"
   ]
  },
  {
   "cell_type": "code",
   "execution_count": 111,
   "id": "dede4833",
   "metadata": {},
   "outputs": [
    {
     "data": {
      "text/plain": [
       "array([0.25      , 0.4       , 0.5       , 1.        , 1.66666667])"
      ]
     },
     "execution_count": 111,
     "metadata": {},
     "output_type": "execute_result"
    }
   ],
   "source": [
    "x=[1,2,3,4,5]\n",
    "y=[4,5,6,4,3]\n",
    "z=np.divide(x,y)\n",
    "z"
   ]
  },
  {
   "cell_type": "code",
   "execution_count": 112,
   "id": "d2bf34cb",
   "metadata": {},
   "outputs": [
    {
     "data": {
      "text/plain": [
       "array([  1,  32, 729, 256, 125])"
      ]
     },
     "execution_count": 112,
     "metadata": {},
     "output_type": "execute_result"
    }
   ],
   "source": [
    "x=[1,2,3,4,5]\n",
    "y=[4,5,6,4,3]\n",
    "z=np.power(x,y)\n",
    "z"
   ]
  },
  {
   "cell_type": "code",
   "execution_count": 113,
   "id": "cde0cd6a",
   "metadata": {},
   "outputs": [
    {
     "data": {
      "text/plain": [
       "array([1, 2, 3, 0, 2])"
      ]
     },
     "execution_count": 113,
     "metadata": {},
     "output_type": "execute_result"
    }
   ],
   "source": [
    "x=[1,2,3,4,5]\n",
    "y=[4,5,6,4,3]\n",
    "z=np.mod(x,y)\n",
    "z"
   ]
  },
  {
   "cell_type": "code",
   "execution_count": 114,
   "id": "eba53072",
   "metadata": {},
   "outputs": [
    {
     "data": {
      "text/plain": [
       "array([1, 2, 3, 0, 2])"
      ]
     },
     "execution_count": 114,
     "metadata": {},
     "output_type": "execute_result"
    }
   ],
   "source": [
    "x=[1,2,3,4,5]\n",
    "y=[4,5,6,4,3]\n",
    "z=np.remainder(x,y)\n",
    "z"
   ]
  },
  {
   "cell_type": "code",
   "execution_count": 115,
   "id": "73b805be",
   "metadata": {},
   "outputs": [
    {
     "data": {
      "text/plain": [
       "(array([0, 0, 0, 1, 1]), array([1, 2, 3, 0, 2]))"
      ]
     },
     "execution_count": 115,
     "metadata": {},
     "output_type": "execute_result"
    }
   ],
   "source": [
    "x=[1,2,3,4,5]\n",
    "y=[4,5,6,4,3]\n",
    "z=np.divmod(x,y)\n",
    "z"
   ]
  },
  {
   "cell_type": "code",
   "execution_count": 116,
   "id": "49d2b64d",
   "metadata": {},
   "outputs": [
    {
     "data": {
      "text/plain": [
       "array([1, 2, 3, 4, 5])"
      ]
     },
     "execution_count": 116,
     "metadata": {},
     "output_type": "execute_result"
    }
   ],
   "source": [
    "x=[-1,2,-3,4,-5]\n",
    "\n",
    "z=np.absolute(x)\n",
    "z"
   ]
  },
  {
   "cell_type": "markdown",
   "id": "280de62d",
   "metadata": {},
   "source": [
    "#### Rounding Decimals"
   ]
  },
  {
   "cell_type": "code",
   "execution_count": 117,
   "id": "71425aa3",
   "metadata": {},
   "outputs": [
    {
     "data": {
      "text/plain": [
       "3.0"
      ]
     },
     "execution_count": 117,
     "metadata": {},
     "output_type": "execute_result"
    }
   ],
   "source": [
    "x=np.trunc(3.45)\n",
    "x"
   ]
  },
  {
   "cell_type": "code",
   "execution_count": 118,
   "id": "4043953a",
   "metadata": {},
   "outputs": [
    {
     "data": {
      "text/plain": [
       "-3.0"
      ]
     },
     "execution_count": 118,
     "metadata": {},
     "output_type": "execute_result"
    }
   ],
   "source": [
    "x=np.fix(-3.34)\n",
    "x"
   ]
  },
  {
   "cell_type": "code",
   "execution_count": 119,
   "id": "9754244d",
   "metadata": {},
   "outputs": [
    {
     "name": "stdout",
     "output_type": "stream",
     "text": [
      "3.17\n"
     ]
    }
   ],
   "source": [
    "x= np.around(3.1666, 2)\n",
    "print(x)"
   ]
  },
  {
   "cell_type": "code",
   "execution_count": 120,
   "id": "ba5c7e95",
   "metadata": {},
   "outputs": [
    {
     "data": {
      "text/plain": [
       "array([-4.])"
      ]
     },
     "execution_count": 120,
     "metadata": {},
     "output_type": "execute_result"
    }
   ],
   "source": [
    "x=np.floor([-3.1666])\n",
    "x"
   ]
  },
  {
   "cell_type": "code",
   "execution_count": 121,
   "id": "20003c60",
   "metadata": {},
   "outputs": [
    {
     "data": {
      "text/plain": [
       "3.0"
      ]
     },
     "execution_count": 121,
     "metadata": {},
     "output_type": "execute_result"
    }
   ],
   "source": [
    "x=np.ceil(2.33)\n",
    "x"
   ]
  },
  {
   "cell_type": "markdown",
   "id": "7ff26373",
   "metadata": {},
   "source": [
    "# NumPy Logs"
   ]
  },
  {
   "cell_type": "code",
   "execution_count": 122,
   "id": "3e28b689",
   "metadata": {},
   "outputs": [
    {
     "name": "stdout",
     "output_type": "stream",
     "text": [
      "[0.        1.        1.5849625 2.       ]\n"
     ]
    }
   ],
   "source": [
    "# Log at Base 2\n",
    "x=np.arange(1,5)\n",
    "print(np.log2(x))"
   ]
  },
  {
   "cell_type": "code",
   "execution_count": 123,
   "id": "399cd53e",
   "metadata": {},
   "outputs": [
    {
     "name": "stdout",
     "output_type": "stream",
     "text": [
      "[0.         0.30103    0.47712125 0.60205999 0.69897   ]\n"
     ]
    }
   ],
   "source": [
    "# Log at Base 10\n",
    "x=np.arange(1,6)\n",
    "print(np.log10(x))\n"
   ]
  },
  {
   "cell_type": "code",
   "execution_count": 124,
   "id": "26077e01",
   "metadata": {},
   "outputs": [
    {
     "name": "stdout",
     "output_type": "stream",
     "text": [
      "1.0986122886681098\n"
     ]
    }
   ],
   "source": [
    "# Natural Log, or Log at Base e\n",
    "x=3\n",
    "print(np.log(x))"
   ]
  },
  {
   "cell_type": "code",
   "execution_count": 125,
   "id": "f415da17",
   "metadata": {},
   "outputs": [
    {
     "name": "stdout",
     "output_type": "stream",
     "text": [
      "1.7005483074552052\n"
     ]
    }
   ],
   "source": [
    "# Log at Any Base\n",
    "from math import log\n",
    "import numpy as np\n",
    "\n",
    "nplog = np.frompyfunc(log, 2, 1)\n",
    "\n",
    "print(nplog(100, 15))"
   ]
  },
  {
   "cell_type": "markdown",
   "id": "6aa3b484",
   "metadata": {},
   "source": [
    "# NumPy Summations"
   ]
  },
  {
   "cell_type": "code",
   "execution_count": 126,
   "id": "a08579c0",
   "metadata": {},
   "outputs": [
    {
     "name": "stdout",
     "output_type": "stream",
     "text": [
      "37\n"
     ]
    }
   ],
   "source": [
    "x=[1,2,3,4,5]\n",
    "y=[4,5,6,4,3]\n",
    "print(np.sum([x,y]))"
   ]
  },
  {
   "cell_type": "code",
   "execution_count": 127,
   "id": "46c605ee",
   "metadata": {},
   "outputs": [
    {
     "name": "stdout",
     "output_type": "stream",
     "text": [
      "[5 7 9 8 8]\n",
      "37\n"
     ]
    }
   ],
   "source": [
    "# alternate method for sum using loop\n",
    "x=np.add(x,y)\n",
    "print(x)\n",
    "summ=0\n",
    "for i in x:\n",
    "    summ=summ+i\n",
    "print(summ)"
   ]
  },
  {
   "cell_type": "code",
   "execution_count": 128,
   "id": "4d476410",
   "metadata": {},
   "outputs": [
    {
     "data": {
      "text/plain": [
       "array([15, 22])"
      ]
     },
     "execution_count": 128,
     "metadata": {},
     "output_type": "execute_result"
    }
   ],
   "source": [
    "# Summation Over an Axis\n",
    "x=[1,2,3,4,5]\n",
    "y=[4,5,6,4,3]\n",
    "z=np.sum([x,y],axis=1)\n",
    "z"
   ]
  },
  {
   "cell_type": "code",
   "execution_count": 129,
   "id": "bf66fcea",
   "metadata": {},
   "outputs": [
    {
     "name": "stdout",
     "output_type": "stream",
     "text": [
      "[ 1  3  6 10]\n"
     ]
    }
   ],
   "source": [
    "# Cummulative Sum\n",
    "# Cummulative sum means partially adding the elements in array.\\\n",
    "# The partial sum of [1, 2, 3, 4] would be [1, 1+2, 1+2+3, 1+2+3+4] = [1, 3, 6, 10].\n",
    "x=np.array([1, 2, 3, 4])\n",
    "print(np.cumsum(x))"
   ]
  },
  {
   "cell_type": "markdown",
   "id": "65979931",
   "metadata": {},
   "source": [
    "# NumPy Products"
   ]
  },
  {
   "cell_type": "code",
   "execution_count": 130,
   "id": "109ad8c5",
   "metadata": {},
   "outputs": [
    {
     "name": "stdout",
     "output_type": "stream",
     "text": [
      "24\n"
     ]
    }
   ],
   "source": [
    "x=np.array([1, 2, 3, 4])\n",
    "print(np.prod(x))"
   ]
  },
  {
   "cell_type": "code",
   "execution_count": 131,
   "id": "66ef8840",
   "metadata": {},
   "outputs": [
    {
     "data": {
      "text/plain": [
       "172800"
      ]
     },
     "execution_count": 131,
     "metadata": {},
     "output_type": "execute_result"
    }
   ],
   "source": [
    "x=[1,2,3,4,5]\n",
    "y=[4,5,6,4,3]\n",
    "z=np.prod([x,y])\n",
    "z"
   ]
  },
  {
   "cell_type": "code",
   "execution_count": 132,
   "id": "04cbff21",
   "metadata": {},
   "outputs": [
    {
     "data": {
      "text/plain": [
       "array([ 120, 1440])"
      ]
     },
     "execution_count": 132,
     "metadata": {},
     "output_type": "execute_result"
    }
   ],
   "source": [
    "x=[1,2,3,4,5]\n",
    "y=[4,5,6,4,3]\n",
    "z=np.prod([x,y],axis=1)\n",
    "z"
   ]
  },
  {
   "cell_type": "code",
   "execution_count": 133,
   "id": "085acec8",
   "metadata": {},
   "outputs": [
    {
     "name": "stdout",
     "output_type": "stream",
     "text": [
      "[ 1  2  6 24]\n"
     ]
    }
   ],
   "source": [
    "# Cummulative Product\n",
    "x=np.array([1, 2, 3, 4])\n",
    "print(np.cumprod(x))"
   ]
  },
  {
   "cell_type": "markdown",
   "id": "2faf46f1",
   "metadata": {},
   "source": [
    "# NumPy Differences\n"
   ]
  },
  {
   "cell_type": "code",
   "execution_count": 134,
   "id": "6263ee74",
   "metadata": {},
   "outputs": [
    {
     "name": "stdout",
     "output_type": "stream",
     "text": [
      "[4 3 1]\n"
     ]
    }
   ],
   "source": [
    "x=np.array([1, 5, 8, 9])\n",
    "print(np.diff(x))"
   ]
  },
  {
   "cell_type": "code",
   "execution_count": 135,
   "id": "f29b3767",
   "metadata": {},
   "outputs": [
    {
     "data": {
      "text/plain": [
       "array([-1, -2])"
      ]
     },
     "execution_count": 135,
     "metadata": {},
     "output_type": "execute_result"
    }
   ],
   "source": [
    "#  for [1, 2, 3, 4], the discrete difference with n = 2\n",
    "#     would be [2-1, 3-2, 4-3] = [1, 1, 1] , then, \n",
    "#     since n=2, we will do it once more, with the new result: [1-1, 1-1] = [0, 0]\n",
    "x=np.array([1, 5, 8, 9])\n",
    "y=np.diff(x,n=2)\n",
    "y"
   ]
  },
  {
   "cell_type": "markdown",
   "id": "b7939571",
   "metadata": {},
   "source": [
    "# NumPy LCM"
   ]
  },
  {
   "cell_type": "code",
   "execution_count": 136,
   "id": "d03b0675",
   "metadata": {},
   "outputs": [
    {
     "name": "stdout",
     "output_type": "stream",
     "text": [
      "6\n"
     ]
    }
   ],
   "source": [
    "x=2\n",
    "y=6\n",
    "print(np.lcm(x,y))"
   ]
  },
  {
   "cell_type": "code",
   "execution_count": 137,
   "id": "760c84f2",
   "metadata": {},
   "outputs": [
    {
     "name": "stdout",
     "output_type": "stream",
     "text": [
      "12\n"
     ]
    }
   ],
   "source": [
    "x=np.array([2,6,12])\n",
    "print(np.lcm.reduce(x))"
   ]
  },
  {
   "cell_type": "code",
   "execution_count": 138,
   "id": "24d017a6",
   "metadata": {},
   "outputs": [
    {
     "name": "stdout",
     "output_type": "stream",
     "text": [
      "2520\n"
     ]
    }
   ],
   "source": [
    "x=np.arange(1,11)\n",
    "print(np.lcm.reduce(x))"
   ]
  },
  {
   "cell_type": "markdown",
   "id": "e66c04e3",
   "metadata": {},
   "source": [
    "# NumPy GCD (HCF)"
   ]
  },
  {
   "cell_type": "code",
   "execution_count": 139,
   "id": "29e4438c",
   "metadata": {},
   "outputs": [
    {
     "name": "stdout",
     "output_type": "stream",
     "text": [
      "2\n"
     ]
    }
   ],
   "source": [
    "x=42\n",
    "y=8\n",
    "print(np.gcd(x,y))\n"
   ]
  },
  {
   "cell_type": "code",
   "execution_count": 140,
   "id": "fa3e8e5b",
   "metadata": {},
   "outputs": [
    {
     "name": "stdout",
     "output_type": "stream",
     "text": [
      "2\n"
     ]
    }
   ],
   "source": [
    "x=np.array([2,6,12])\n",
    "print(np.gcd.reduce(x))"
   ]
  },
  {
   "cell_type": "markdown",
   "id": "7cdfc98d",
   "metadata": {},
   "source": [
    "# NumPy Trigonometric Functions"
   ]
  },
  {
   "cell_type": "code",
   "execution_count": 141,
   "id": "1c5aa1d0",
   "metadata": {},
   "outputs": [
    {
     "name": "stdout",
     "output_type": "stream",
     "text": [
      "1.0\n"
     ]
    }
   ],
   "source": [
    "x = np.sin(np.pi/2)\n",
    "print(x)"
   ]
  },
  {
   "cell_type": "code",
   "execution_count": 142,
   "id": "ca123bd0",
   "metadata": {},
   "outputs": [
    {
     "name": "stdout",
     "output_type": "stream",
     "text": [
      "[1.         0.8660254  0.70710678 0.58778525]\n"
     ]
    }
   ],
   "source": [
    "arr = np.array([np.pi/2, np.pi/3, np.pi/4, np.pi/5])\n",
    "x = np.sin(arr)\n",
    "print(x)"
   ]
  },
  {
   "cell_type": "code",
   "execution_count": 143,
   "id": "99fcde30",
   "metadata": {},
   "outputs": [
    {
     "name": "stdout",
     "output_type": "stream",
     "text": [
      "[1.57079633 3.14159265 4.71238898 6.28318531]\n"
     ]
    }
   ],
   "source": [
    "# Degrees to Radians \n",
    "arr = np.array([90, 180, 270, 360])\n",
    "x = np.deg2rad(arr)\n",
    "print(x) "
   ]
  },
  {
   "cell_type": "code",
   "execution_count": 144,
   "id": "1c61e345",
   "metadata": {},
   "outputs": [
    {
     "name": "stdout",
     "output_type": "stream",
     "text": [
      "[ 90. 180. 270. 360.]\n"
     ]
    }
   ],
   "source": [
    "# Radians to Degrees\n",
    "arr = np.array([np.pi/2, np.pi, 1.5*np.pi, 2*np.pi])\n",
    "x = np.rad2deg(arr)\n",
    "print(x)"
   ]
  },
  {
   "cell_type": "code",
   "execution_count": 145,
   "id": "d30863f3",
   "metadata": {},
   "outputs": [
    {
     "name": "stdout",
     "output_type": "stream",
     "text": [
      "1.5707963267948966\n"
     ]
    }
   ],
   "source": [
    "# Finding Angles\n",
    "# NumPy provides ufuncs arcsin(), arccos() and arctan()\n",
    "# that produce radian values for corresponding sin, cos and tan values given.\n",
    "x = np.arcsin(1.0)\n",
    "print(x)"
   ]
  },
  {
   "cell_type": "code",
   "execution_count": 146,
   "id": "f688f2a7",
   "metadata": {},
   "outputs": [
    {
     "data": {
      "text/plain": [
       "10.44030650891055"
      ]
     },
     "execution_count": 146,
     "metadata": {},
     "output_type": "execute_result"
    }
   ],
   "source": [
    "# Hypotenues\n",
    "base=10\n",
    "perp=3\n",
    "x = np.hypot(base, perp)\n",
    "x"
   ]
  },
  {
   "cell_type": "markdown",
   "id": "67933300",
   "metadata": {},
   "source": [
    "# Hyperbolic Functions"
   ]
  },
  {
   "cell_type": "code",
   "execution_count": 147,
   "id": "cd1cec86",
   "metadata": {},
   "outputs": [
    {
     "name": "stdout",
     "output_type": "stream",
     "text": [
      "2.3012989023072947\n"
     ]
    }
   ],
   "source": [
    "x = np.sinh(np.pi/2)\n",
    "print(x)"
   ]
  },
  {
   "cell_type": "code",
   "execution_count": 148,
   "id": "f2135a5b",
   "metadata": {},
   "outputs": [
    {
     "name": "stdout",
     "output_type": "stream",
     "text": [
      "[2.50917848 1.60028686 1.32460909 1.20397209]\n"
     ]
    }
   ],
   "source": [
    "arr = np.array([np.pi/2, np.pi/3, np.pi/4, np.pi/5])\n",
    "x = np.cosh(arr)\n",
    "print(x)"
   ]
  },
  {
   "cell_type": "code",
   "execution_count": 149,
   "id": "16641b3f",
   "metadata": {},
   "outputs": [
    {
     "name": "stdout",
     "output_type": "stream",
     "text": [
      "[0.10033535 0.20273255 0.54930614]\n"
     ]
    }
   ],
   "source": [
    "arr = np.array([0.1, 0.2, 0.5])\n",
    "x = np.arctanh(arr)\n",
    "print(x)"
   ]
  },
  {
   "cell_type": "markdown",
   "id": "1f87aeab",
   "metadata": {},
   "source": [
    "# NumPy Set Operations"
   ]
  },
  {
   "cell_type": "code",
   "execution_count": 150,
   "id": "7a188f56",
   "metadata": {},
   "outputs": [
    {
     "data": {
      "text/plain": [
       "array([1, 2, 3, 4, 5, 6])"
      ]
     },
     "execution_count": 150,
     "metadata": {},
     "output_type": "execute_result"
    }
   ],
   "source": [
    "# union\n",
    "x=np.array([1,2,3,4,5])\n",
    "y=np.array([4,5,6,4,3])\n",
    "z=np.union1d(x,y)\n",
    "z\n"
   ]
  },
  {
   "cell_type": "code",
   "execution_count": 151,
   "id": "853aac48",
   "metadata": {},
   "outputs": [
    {
     "data": {
      "text/plain": [
       "array([3, 4, 4, 5])"
      ]
     },
     "execution_count": 151,
     "metadata": {},
     "output_type": "execute_result"
    }
   ],
   "source": [
    "# intersection\n",
    "x=np.array([1,2,3,4,5])\n",
    "y=np.array([4,5,6,4,3])\n",
    "z=np.intersect1d(x,y,assume_unique=True)\n",
    "z"
   ]
  },
  {
   "cell_type": "code",
   "execution_count": 152,
   "id": "3edde0ad",
   "metadata": {},
   "outputs": [
    {
     "data": {
      "text/plain": [
       "array([1, 2])"
      ]
     },
     "execution_count": 152,
     "metadata": {},
     "output_type": "execute_result"
    }
   ],
   "source": [
    "# Difference\n",
    "x=np.array([1,2,3,4,5])\n",
    "y=np.array([4,5,6,4,3])\n",
    "z=np.setdiff1d(x,y,assume_unique=True)\n",
    "z"
   ]
  },
  {
   "cell_type": "code",
   "execution_count": 153,
   "id": "a44eb9d4",
   "metadata": {},
   "outputs": [
    {
     "data": {
      "text/plain": [
       "array([1, 2, 6])"
      ]
     },
     "execution_count": 153,
     "metadata": {},
     "output_type": "execute_result"
    }
   ],
   "source": [
    "x=np.array([1,2,3,4,5])\n",
    "y=np.array([4,5,6,4,3])\n",
    "z=np.setxor1d(x,y,assume_unique=True)\n",
    "z"
   ]
  },
  {
   "cell_type": "code",
   "execution_count": null,
   "id": "6a128d1b",
   "metadata": {},
   "outputs": [],
   "source": []
  }
 ],
 "metadata": {
  "kernelspec": {
   "display_name": "Python 3 (ipykernel)",
   "language": "python",
   "name": "python3"
  },
  "language_info": {
   "codemirror_mode": {
    "name": "ipython",
    "version": 3
   },
   "file_extension": ".py",
   "mimetype": "text/x-python",
   "name": "python",
   "nbconvert_exporter": "python",
   "pygments_lexer": "ipython3",
   "version": "3.9.5"
  }
 },
 "nbformat": 4,
 "nbformat_minor": 5
}
